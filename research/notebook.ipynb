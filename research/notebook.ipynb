{
 "cells": [
  {
   "cell_type": "markdown",
   "metadata": {},
   "source": [
    "## Medical Chatbot\n",
    "\n",
    "# Warning: Obsolete"
   ]
  },
  {
   "cell_type": "code",
   "execution_count": 1,
   "metadata": {},
   "outputs": [
    {
     "data": {
      "text/plain": [
       "'d:\\\\Medical-chatbot'"
      ]
     },
     "execution_count": 1,
     "metadata": {},
     "output_type": "execute_result"
    }
   ],
   "source": [
    "import os\n",
    "os.chdir(\"../\")\n",
    "\n",
    "%pwd"
   ]
  },
  {
   "cell_type": "code",
   "execution_count": 15,
   "metadata": {},
   "outputs": [],
   "source": [
    "from langchain.document_loaders import PyPDFLoader, DirectoryLoader\n",
    "from langchain.text_splitter import RecursiveCharacterTextSplitter\n",
    "from langchain_huggingface import HuggingFaceEmbeddings\n",
    "from langchain_pinecone import PineconeVectorStore\n",
    "\n",
    "from pinecone import Pinecone\n",
    "from pinecone import ServerlessSpec\n",
    "\n",
    "from langchain_google_genai import ChatGoogleGenerativeAI\n",
    "from langchain.chains import create_retrieval_chain\n",
    "from langchain.chains.combine_documents import create_stuff_documents_chain\n",
    "from langchain.prompts import ChatPromptTemplate\n"
   ]
  },
  {
   "cell_type": "markdown",
   "metadata": {},
   "source": [
    "### Load env"
   ]
  },
  {
   "cell_type": "code",
   "execution_count": 3,
   "metadata": {},
   "outputs": [
    {
     "data": {
      "text/plain": [
       "True"
      ]
     },
     "execution_count": 3,
     "metadata": {},
     "output_type": "execute_result"
    }
   ],
   "source": [
    "from dotenv import load_dotenv\n",
    "load_dotenv()"
   ]
  },
  {
   "cell_type": "markdown",
   "metadata": {},
   "source": [
    "### Extract data from pdf"
   ]
  },
  {
   "cell_type": "code",
   "execution_count": 4,
   "metadata": {},
   "outputs": [],
   "source": [
    "def load_pdf_file(data):\n",
    "    loader = DirectoryLoader(data, glob=\"*.pdf\", loader_cls=PyPDFLoader)\n",
    "    documents = loader.load()\n",
    "\n",
    "    return documents"
   ]
  },
  {
   "cell_type": "code",
   "execution_count": 17,
   "metadata": {},
   "outputs": [],
   "source": [
    "extracted_data = load_pdf_file(\"data/\")\n"
   ]
  },
  {
   "cell_type": "code",
   "execution_count": null,
   "metadata": {},
   "outputs": [],
   "source": [
    "extracted_data"
   ]
  },
  {
   "cell_type": "markdown",
   "metadata": {},
   "source": [
    "### Chunking of data"
   ]
  },
  {
   "cell_type": "code",
   "execution_count": 19,
   "metadata": {},
   "outputs": [],
   "source": [
    "def text_split(documents):\n",
    "    text_splitter = RecursiveCharacterTextSplitter(chunk_size=500, chunk_overlap=20)\n",
    "    text_chunks = text_splitter.split_documents(documents)\n",
    "    return text_chunks"
   ]
  },
  {
   "cell_type": "code",
   "execution_count": 20,
   "metadata": {},
   "outputs": [],
   "source": [
    "text_chunks = text_split(extracted_data)"
   ]
  },
  {
   "cell_type": "code",
   "execution_count": null,
   "metadata": {},
   "outputs": [],
   "source": [
    "print(len(text_chunks))"
   ]
  },
  {
   "cell_type": "markdown",
   "metadata": {},
   "source": [
    "### Download Embedding Model"
   ]
  },
  {
   "cell_type": "code",
   "execution_count": 7,
   "metadata": {},
   "outputs": [],
   "source": [
    "def download_embedding_model():\n",
    "    embedding_model = HuggingFaceEmbeddings(model_name=\"sentence-transformers/all-MiniLM-L6-v2\")\n",
    "    return embedding_model\n"
   ]
  },
  {
   "cell_type": "code",
   "execution_count": 8,
   "metadata": {},
   "outputs": [],
   "source": [
    "embedding_model = download_embedding_model()\n"
   ]
  },
  {
   "cell_type": "markdown",
   "metadata": {},
   "source": [
    "### Pinecode - Vector Database"
   ]
  },
  {
   "cell_type": "code",
   "execution_count": 4,
   "metadata": {},
   "outputs": [],
   "source": [
    "pc = Pinecone(api_key=os.getenv(\"PINECONE_API_KEY\"))\n"
   ]
  },
  {
   "cell_type": "code",
   "execution_count": null,
   "metadata": {},
   "outputs": [],
   "source": [
    "index_name = \"medical-chatbot\"\n",
    "dimension_of_vector = 384\n",
    "\n",
    "pc.create_index(\n",
    "    name=index_name,\n",
    "    dimension=dimension_of_vector,\n",
    "    metric=\"cosine\",\n",
    "    spec=ServerlessSpec(\n",
    "        cloud=\"aws\",\n",
    "        region=\"us-east-1\"\n",
    "    )\n",
    ")"
   ]
  },
  {
   "cell_type": "code",
   "execution_count": null,
   "metadata": {},
   "outputs": [],
   "source": [
    "# Embed and upsert the embeddings into the Pinecone Index\n",
    "\n",
    "doc_store = PineconeVectorStore.from_documents(\n",
    "    index_name=index_name,\n",
    "    embedding=embedding_model,\n",
    "    documents=text_chunks\n",
    ")\n"
   ]
  },
  {
   "cell_type": "code",
   "execution_count": 9,
   "metadata": {},
   "outputs": [],
   "source": [
    "# Load Existing Index\n",
    "\n",
    "doc_store = PineconeVectorStore.from_existing_index(\n",
    "    index_name=index_name,\n",
    "    embedding=embedding_model\n",
    ")\n"
   ]
  },
  {
   "cell_type": "markdown",
   "metadata": {},
   "source": [
    "### Retrieval from database"
   ]
  },
  {
   "cell_type": "code",
   "execution_count": 40,
   "metadata": {},
   "outputs": [],
   "source": [
    "retriever = doc_store.as_retriever(search_type=\"similarity\", search_kwargs={\"k\": 3})"
   ]
  },
  {
   "cell_type": "code",
   "execution_count": 50,
   "metadata": {},
   "outputs": [],
   "source": [
    "retrieved_docs = retriever.invoke(\"Can you suggest proper medication for early diagnosis of diabetes?\")\n"
   ]
  },
  {
   "cell_type": "code",
   "execution_count": 51,
   "metadata": {},
   "outputs": [
    {
     "data": {
      "text/plain": [
       "[Document(id='bbbee54d-99e3-46c6-8038-86bf66c6b8ef', metadata={'creationdate': '2006-10-16T20:19:33+02:00', 'creator': 'Adobe Acrobat 6.0', 'moddate': '2016-02-07T11:23:03+07:00', 'page': 1188.0, 'page_label': '1159', 'producer': 'PDFlib+PDI 6.0.3 (SunOS)', 'source': 'data\\\\encyclopedia-of-medicine-vol-1-5-3rd-edition.pdf', 'total_pages': 4505.0}, page_content='symptoms of diabetes and supporting patients with\\nthe disease.Acupuncture can help relieve the pain\\nassociated withdiabetic neuropathyby stimulation of\\ncetain points. A qualified practitioner should be con-\\nsulted. Herbal remedies also may be helpful in manag-\\ning diabetes. Although there is no herbal substitute\\nfor insulin, some herbs may help adjust blood sugar\\nlevels or manage other diabetic symptoms. Some\\noptions include:\\n/C15fenugreek (Trigonella foenum-graecum ) has been'),\n",
       " Document(id='00cf28a2-6030-4fa8-a171-4f1d7b4106e4', metadata={'creationdate': '2006-10-16T20:19:33+02:00', 'creator': 'Adobe Acrobat 6.0', 'moddate': '2016-02-07T11:23:03+07:00', 'page': 3254.0, 'page_label': '3225', 'producer': 'PDFlib+PDI 6.0.3 (SunOS)', 'source': 'data\\\\encyclopedia-of-medicine-vol-1-5-3rd-edition.pdf', 'total_pages': 4505.0}, page_content='when starting the drug. People with diabetes must take\\nextra care to have thorough, periodic eye exams, espe-\\ncially if early signs ofvisual impairment are noticed.\\nA 2003 report recommended re-screening eye exams\\nevery two years for diabetics whose blood sugar had\\nremained in control, and more frequent exams if visual\\nsymptoms appear. Anyone experiencing a sudden loss\\nof vision, decrease in vision or visual field, flashes of\\nlight, or floating spots should contact their eye doctor\\nright away.'),\n",
       " Document(id='dc93f22b-e60a-41b1-be1e-afa179973206', metadata={'creationdate': '2006-10-16T20:19:33+02:00', 'creator': 'Adobe Acrobat 6.0', 'moddate': '2016-02-07T11:23:03+07:00', 'page': 1187.0, 'page_label': '1158', 'producer': 'PDFlib+PDI 6.0.3 (SunOS)', 'source': 'data\\\\encyclopedia-of-medicine-vol-1-5-3rd-edition.pdf', 'total_pages': 4505.0}, page_content='growing segment of diabetes drugs. The drugs first pre-\\nscribed for Type II diabetes are in a class of compounds\\ncalled sulfonylureas and include tolbutamide, tolaza-\\nmide, acetohexamide, and chlorpropamide. Newer\\ndrugs in the same class are now available and include\\nglyburide, glimeperide, and glipizide. How these drugs\\nwork is not well understood, however, they seem to\\nstimulate cells of the pancreas to produce more insulin.\\nNew medications that are available to treat diabetes')]"
      ]
     },
     "execution_count": 51,
     "metadata": {},
     "output_type": "execute_result"
    }
   ],
   "source": [
    "retrieved_docs"
   ]
  },
  {
   "cell_type": "markdown",
   "metadata": {},
   "source": [
    "### LLM Model"
   ]
  },
  {
   "cell_type": "code",
   "execution_count": 52,
   "metadata": {},
   "outputs": [],
   "source": [
    "llm = ChatGoogleGenerativeAI(model=\"gemini-1.5-flash\")"
   ]
  },
  {
   "cell_type": "code",
   "execution_count": 53,
   "metadata": {},
   "outputs": [],
   "source": [
    "system_prompt = (\n",
    "    \"You are a medical expert. Answer the user's question based on the provided context.\"\n",
    "    \"{context}\"\n",
    ")\n",
    "\n",
    "prompt = ChatPromptTemplate.from_messages(\n",
    "    [\n",
    "        (\"system\", system_prompt),\n",
    "        (\"human\", \"Can you suggest proper medication for early diagnosis of diabetes?\")\n",
    "    ]\n",
    ")"
   ]
  },
  {
   "cell_type": "code",
   "execution_count": 54,
   "metadata": {},
   "outputs": [],
   "source": [
    "question_answer_chain = create_stuff_documents_chain(llm, prompt)\n",
    "rag_chain = create_retrieval_chain(retriever, question_answer_chain)\n"
   ]
  },
  {
   "cell_type": "code",
   "execution_count": 55,
   "metadata": {},
   "outputs": [
    {
     "name": "stdout",
     "output_type": "stream",
     "text": [
      "{'input': 'Can you suggest proper medication for early diagnosis of diabetes?', 'context': [Document(id='bbbee54d-99e3-46c6-8038-86bf66c6b8ef', metadata={'creationdate': '2006-10-16T20:19:33+02:00', 'creator': 'Adobe Acrobat 6.0', 'moddate': '2016-02-07T11:23:03+07:00', 'page': 1188.0, 'page_label': '1159', 'producer': 'PDFlib+PDI 6.0.3 (SunOS)', 'source': 'data\\\\encyclopedia-of-medicine-vol-1-5-3rd-edition.pdf', 'total_pages': 4505.0}, page_content='symptoms of diabetes and supporting patients with\\nthe disease.Acupuncture can help relieve the pain\\nassociated withdiabetic neuropathyby stimulation of\\ncetain points. A qualified practitioner should be con-\\nsulted. Herbal remedies also may be helpful in manag-\\ning diabetes. Although there is no herbal substitute\\nfor insulin, some herbs may help adjust blood sugar\\nlevels or manage other diabetic symptoms. Some\\noptions include:\\n/C15fenugreek (Trigonella foenum-graecum ) has been'), Document(id='00cf28a2-6030-4fa8-a171-4f1d7b4106e4', metadata={'creationdate': '2006-10-16T20:19:33+02:00', 'creator': 'Adobe Acrobat 6.0', 'moddate': '2016-02-07T11:23:03+07:00', 'page': 3254.0, 'page_label': '3225', 'producer': 'PDFlib+PDI 6.0.3 (SunOS)', 'source': 'data\\\\encyclopedia-of-medicine-vol-1-5-3rd-edition.pdf', 'total_pages': 4505.0}, page_content='when starting the drug. People with diabetes must take\\nextra care to have thorough, periodic eye exams, espe-\\ncially if early signs ofvisual impairment are noticed.\\nA 2003 report recommended re-screening eye exams\\nevery two years for diabetics whose blood sugar had\\nremained in control, and more frequent exams if visual\\nsymptoms appear. Anyone experiencing a sudden loss\\nof vision, decrease in vision or visual field, flashes of\\nlight, or floating spots should contact their eye doctor\\nright away.'), Document(id='dc93f22b-e60a-41b1-be1e-afa179973206', metadata={'creationdate': '2006-10-16T20:19:33+02:00', 'creator': 'Adobe Acrobat 6.0', 'moddate': '2016-02-07T11:23:03+07:00', 'page': 1187.0, 'page_label': '1158', 'producer': 'PDFlib+PDI 6.0.3 (SunOS)', 'source': 'data\\\\encyclopedia-of-medicine-vol-1-5-3rd-edition.pdf', 'total_pages': 4505.0}, page_content='growing segment of diabetes drugs. The drugs first pre-\\nscribed for Type II diabetes are in a class of compounds\\ncalled sulfonylureas and include tolbutamide, tolaza-\\nmide, acetohexamide, and chlorpropamide. Newer\\ndrugs in the same class are now available and include\\nglyburide, glimeperide, and glipizide. How these drugs\\nwork is not well understood, however, they seem to\\nstimulate cells of the pancreas to produce more insulin.\\nNew medications that are available to treat diabetes')], 'answer': \"There is no medication for the *early diagnosis* of diabetes.  Diagnosis of diabetes relies on tests like fasting blood glucose, HbA1c, and oral glucose tolerance tests, not medication.  Medication is used to *treat* diabetes once it's diagnosed.\"}\n"
     ]
    }
   ],
   "source": [
    "response = rag_chain.invoke({\"input\": \"Can you suggest proper medication for early diagnosis of diabetes?\"})\n",
    "print(response)"
   ]
  },
  {
   "cell_type": "code",
   "execution_count": 56,
   "metadata": {},
   "outputs": [
    {
     "name": "stdout",
     "output_type": "stream",
     "text": [
      "There is no medication for the *early diagnosis* of diabetes.  Diagnosis of diabetes relies on tests like fasting blood glucose, HbA1c, and oral glucose tolerance tests, not medication.  Medication is used to *treat* diabetes once it's diagnosed.\n"
     ]
    }
   ],
   "source": [
    "print(response[\"answer\"])\n"
   ]
  }
 ],
 "metadata": {
  "kernelspec": {
   "display_name": "medical-chat",
   "language": "python",
   "name": "python3"
  },
  "language_info": {
   "codemirror_mode": {
    "name": "ipython",
    "version": 3
   },
   "file_extension": ".py",
   "mimetype": "text/x-python",
   "name": "python",
   "nbconvert_exporter": "python",
   "pygments_lexer": "ipython3",
   "version": "3.10.16"
  }
 },
 "nbformat": 4,
 "nbformat_minor": 2
}
